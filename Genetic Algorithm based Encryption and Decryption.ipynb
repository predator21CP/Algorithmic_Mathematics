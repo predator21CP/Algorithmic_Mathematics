{
 "cells": [
  {
   "cell_type": "code",
   "execution_count": 1,
   "id": "3be30412",
   "metadata": {},
   "outputs": [],
   "source": [
    "#Libraries\n",
    "import random\n",
    "import string"
   ]
  },
  {
   "cell_type": "code",
   "execution_count": 2,
   "id": "aba37ac8",
   "metadata": {},
   "outputs": [],
   "source": [
    "# Function to generate a random key\n",
    "def generate_key():\n",
    "    return ''.join(random.sample(string.ascii_lowercase, len(string.ascii_lowercase)))\n"
   ]
  },
  {
   "cell_type": "code",
   "execution_count": 3,
   "id": "a0862a73",
   "metadata": {},
   "outputs": [],
   "source": [
    "# Function to encrypt the message using a substitution cipher\n",
    "def encrypt(message, key):\n",
    "    table = str.maketrans(string.ascii_lowercase, key)\n",
    "    return message.translate(table)\n"
   ]
  },
  {
   "cell_type": "code",
   "execution_count": 4,
   "id": "07afe27f",
   "metadata": {},
   "outputs": [],
   "source": [
    "# Function to decrypt the message using a given key\n",
    "def decrypt(message, key):\n",
    "    table = str.maketrans(key, string.ascii_lowercase)\n",
    "    return message.translate(table)"
   ]
  },
  {
   "cell_type": "code",
   "execution_count": 5,
   "id": "642ae2fc",
   "metadata": {},
   "outputs": [],
   "source": [
    "# Fitness function to evaluate the decryption key\n",
    "def fitness(key, encrypted_message, target_message):\n",
    "    decrypted_message = decrypt(encrypted_message, key)\n",
    "    score = sum(1 for a, b in zip(decrypted_message, target_message) if a == b)\n",
    "    return score"
   ]
  },
  {
   "cell_type": "code",
   "execution_count": 6,
   "id": "aa7710cd",
   "metadata": {},
   "outputs": [],
   "source": [
    "# Function to generate initial population\n",
    "def generate_population(pop_size):\n",
    "    return [generate_key() for _ in range(pop_size)]"
   ]
  },
  {
   "cell_type": "code",
   "execution_count": 7,
   "id": "6f935cc2",
   "metadata": {},
   "outputs": [],
   "source": [
    "# Function for tournament selection\n",
    "def tournament_selection(population, fitness_values, tournament_size):\n",
    "    selected = []\n",
    "    for _ in range(len(population)):\n",
    "        tournament = random.sample(list(zip(population, fitness_values)), tournament_size)\n",
    "        winner = max(tournament, key=lambda x: x[1])\n",
    "        selected.append(winner[0])\n",
    "    return selected"
   ]
  },
  {
   "cell_type": "code",
   "execution_count": 8,
   "id": "f398ae16",
   "metadata": {},
   "outputs": [],
   "source": [
    "# Function for single-point crossover\n",
    "def crossover(parent1, parent2):\n",
    "    point = random.randint(1, len(parent1) - 1)\n",
    "    child1 = parent1[:point] + parent2[point:]\n",
    "    child2 = parent2[:point] + parent1[point:]\n",
    "    return child1, child2"
   ]
  },
  {
   "cell_type": "code",
   "execution_count": 9,
   "id": "41624a69",
   "metadata": {},
   "outputs": [],
   "source": [
    "# Function for mutation\n",
    "def mutate(key, mutation_rate):\n",
    "    mutated_key = list(key)\n",
    "    for i in range(len(mutated_key)):\n",
    "        if random.random() < mutation_rate:\n",
    "            mutated_key[i] = random.choice(string.ascii_lowercase)\n",
    "    return ''.join(mutated_key)"
   ]
  },
  {
   "cell_type": "code",
   "execution_count": 10,
   "id": "d4ad7832",
   "metadata": {},
   "outputs": [],
   "source": [
    "# Genetic algorithm for decryption\n",
    "def genetic_decrypt(encrypted_message, target_message, pop_size=100, generations=100, mutation_rate=0.01, tournament_size=5):\n",
    "    population = generate_population(pop_size)\n",
    "    for gen in range(generations):\n",
    "        fitness_values = [fitness(key, encrypted_message, target_message) for key in population]\n",
    "        best_fit = max(fitness_values)\n",
    "        best_key = population[fitness_values.index(best_fit)]\n",
    "        if best_fit == len(target_message):\n",
    "            break\n",
    "        selected = tournament_selection(population, fitness_values, tournament_size)\n",
    "        next_population = []\n",
    "        for i in range(0, pop_size, 2):\n",
    "            parent1, parent2 = random.sample(selected, 2)\n",
    "            child1, child2 = crossover(parent1, parent2)\n",
    "            child1 = mutate(child1, mutation_rate)\n",
    "            child2 = mutate(child2, mutation_rate)\n",
    "            next_population.extend([child1, child2])\n",
    "        population = next_population\n",
    "    return best_key"
   ]
  },
  {
   "cell_type": "code",
   "execution_count": 11,
   "id": "70b012f6",
   "metadata": {},
   "outputs": [
    {
     "name": "stdout",
     "output_type": "stream",
     "text": [
      "Encrypted message: huxxy aycxj\n",
      "Decryption key: ywcjuktvmlcxbsyqbcofvfailt\n",
      "Decrypted message: hello world\n"
     ]
    }
   ],
   "source": [
    "# Example usage\n",
    "if __name__ == \"__main__\":\n",
    "    message = \"hello world\"\n",
    "    encryption_key = generate_key()\n",
    "    encrypted_message = encrypt(message, encryption_key)\n",
    "    print(\"Encrypted message:\", encrypted_message)\n",
    "    \n",
    "    decrypted_key = genetic_decrypt(encrypted_message, message)\n",
    "    decrypted_message = decrypt(encrypted_message, decrypted_key)\n",
    "    print(\"Decryption key:\", decrypted_key)\n",
    "    print(\"Decrypted message:\", decrypted_message)"
   ]
  },
  {
   "cell_type": "code",
   "execution_count": null,
   "id": "02e83404",
   "metadata": {},
   "outputs": [],
   "source": []
  }
 ],
 "metadata": {
  "kernelspec": {
   "display_name": "Python 3 (ipykernel)",
   "language": "python",
   "name": "python3"
  },
  "language_info": {
   "codemirror_mode": {
    "name": "ipython",
    "version": 3
   },
   "file_extension": ".py",
   "mimetype": "text/x-python",
   "name": "python",
   "nbconvert_exporter": "python",
   "pygments_lexer": "ipython3",
   "version": "3.9.16"
  }
 },
 "nbformat": 4,
 "nbformat_minor": 5
}
